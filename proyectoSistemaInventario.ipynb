{
 "cells": [
  {
   "cell_type": "code",
   "execution_count": 2,
   "id": "4bb2a6b2",
   "metadata": {},
   "outputs": [
    {
     "name": "stdout",
     "output_type": "stream",
     "text": [
      "Bienvenid@ al Sistema de Control de Inventario\n",
      "\n",
      " Inventario Inicial\n",
      "Nombre del Producto: Camisas\n",
      "Cantidad de unidades de Camisas: 10\n",
      "Precio por unidad: $ 50000.0\n",
      "Valor total del inventario inicial: $ 500000.0\n"
     ]
    }
   ],
   "source": [
    "import keyword\n",
    "print (\"Bienvenid@ al Sistema de Control de Inventario\")\n",
    "nombreProducto = input(\"Ingrese nombre del producto:\")\n",
    "cantidadProducto = int (input(\"Ingresar cantidad:\"))\n",
    "precioUnitario = float(input(\"Ingresar precio unitario:\"))\n",
    "valorInventarioInicial = cantidadProducto * precioUnitario\n",
    "\n",
    "print(\"\\n Inventario Inicial\")\n",
    "print(\"Nombre del Producto:\",nombreProducto)\n",
    "print(f\"Cantidad de unidades de {nombreProducto}: {cantidadProducto}\")\n",
    "print(\"Precio por unidad: $\",precioUnitario)\n",
    "print (\"Valor total del inventario inicial: $\",valorInventarioInicial)\n",
    "\n"
   ]
  },
  {
   "cell_type": "code",
   "execution_count": null,
   "id": "23222991",
   "metadata": {},
   "outputs": [],
   "source": []
  }
 ],
 "metadata": {
  "kernelspec": {
   "display_name": "Python 3",
   "language": "python",
   "name": "python3"
  },
  "language_info": {
   "codemirror_mode": {
    "name": "ipython",
    "version": 3
   },
   "file_extension": ".py",
   "mimetype": "text/x-python",
   "name": "python",
   "nbconvert_exporter": "python",
   "pygments_lexer": "ipython3",
   "version": "3.13.3"
  }
 },
 "nbformat": 4,
 "nbformat_minor": 5
}
